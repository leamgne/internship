{
 "cells": [
  {
   "cell_type": "code",
   "execution_count": 30,
   "id": "d77a6635",
   "metadata": {},
   "outputs": [],
   "source": [
    "import pandas as pd\n",
    "import os\n",
    "import shutil\n",
    "import math"
   ]
  },
  {
   "cell_type": "code",
   "execution_count": 56,
   "id": "f4cf384f",
   "metadata": {},
   "outputs": [],
   "source": [
    "files_directory = r'D:\\IARC data\\three_variable_dataset'\n",
    "target_dir = r'D:\\IARC data\\three_variable_dataset_811'"
   ]
  },
  {
   "cell_type": "code",
   "execution_count": 77,
   "id": "dbe5220a",
   "metadata": {},
   "outputs": [],
   "source": [
    "def create_dir(source, destination):\n",
    "    target_mkdir = os.path.join(source,destination)\n",
    "    if os.path.exists(target_mkdir):\n",
    "        shutil.rmtree(target_mkdir)\n",
    "        os.mkdir(target_mkdir)\n",
    "    else:\n",
    "        os.mkdir(target_mkdir)"
   ]
  },
  {
   "cell_type": "code",
   "execution_count": 82,
   "id": "0dd0ffbe",
   "metadata": {},
   "outputs": [],
   "source": [
    "file_type = []\n",
    "target_seperation = ['train', 'val', 'test']\n",
    "\n",
    "for count in range(3):\n",
    "    create_dir(target_dir,target_seperation[count])\n",
    "for_file"
   ]
  },
  {
   "cell_type": "code",
   "execution_count": 88,
   "id": "f7f88182",
   "metadata": {},
   "outputs": [
    {
     "name": "stdout",
     "output_type": "stream",
     "text": [
      "Cancer appropriate = from - 11 train:7 val:2 test:2\n",
      "0 P144 valid\n",
      "1 P148 valid\n",
      "2 P150 valid\n",
      "3 P152 valid\n",
      "4 P157 valid\n",
      "5 P158 valid\n",
      "6 P159 valid\n",
      "7 P161 val\n",
      "8 P163 val\n",
      "9 P166 test\n",
      "10 P167 test\n",
      "HSIL appropriate = from - 17 train:11 val:3 test:3\n",
      "0 P099 valid\n",
      "1 P100 valid\n",
      "2 P103 valid\n",
      "3 P104 valid\n",
      "4 P109 valid\n",
      "5 P111 valid\n",
      "6 P113 valid\n",
      "7 P114 valid\n",
      "8 P115 valid\n",
      "9 P117 valid\n",
      "10 P119 valid\n",
      "11 P120 val\n",
      "12 P124 val\n",
      "13 P125 val\n",
      "14 P134 test\n",
      "15 P137 test\n",
      "16 P139 test\n",
      "LSIL appropriate = from - 14 train:10 val:2 test:2\n",
      "0 P081 valid\n",
      "1 P082 valid\n",
      "2 P083 valid\n",
      "3 P084 valid\n",
      "4 P085 valid\n",
      "5 P087 valid\n",
      "6 P088 valid\n",
      "7 P089 valid\n",
      "8 P090 valid\n",
      "9 P091 valid\n",
      "10 P092 val\n",
      "11 P093 val\n",
      "12 P094 test\n",
      "13 P095 test\n",
      "Normal appropriate = from - 25 train:15 val:5 test:5\n",
      "0 P001 valid\n",
      "1 P004 valid\n",
      "2 P005 valid\n",
      "3 P006 valid\n",
      "4 P007 valid\n",
      "5 P009 valid\n",
      "6 P012 valid\n",
      "7 P013 valid\n",
      "8 P016 valid\n",
      "9 P017 valid\n",
      "10 P018 valid\n",
      "11 P019 valid\n",
      "12 P020 valid\n",
      "13 P021 valid\n",
      "14 P022 valid\n",
      "15 P023 val\n",
      "16 P024 val\n",
      "17 P025 val\n",
      "18 P026 val\n",
      "19 P027 val\n",
      "20 P028 test\n",
      "21 P031 test\n",
      "22 P032 test\n",
      "23 P033 test\n",
      "24 P034 test\n"
     ]
    }
   ],
   "source": [
    "cal_mode = [0.6, 0.2, 0.2]\n",
    "\n",
    "for file in os.listdir(files_directory):\n",
    "    destination = os.path.join(files_directory,file)\n",
    "    number = len(os.listdir(destination))\n",
    "    \n",
    "    train = math.ceil(cal_mode[0]*number)\n",
    "    val = math.floor(cal_mode[1]*number)\n",
    "    test = math.floor(cal_mode[2]*number)\n",
    "    \n",
    "    diff = number - (test + train + val)\n",
    "    \n",
    "    train = train + diff\n",
    "\n",
    "    print('{} appropriate = from - {} train:{} val:{} test:{}'.format(file, number,train,val,test))\n",
    "    \n",
    "    for index,data in enumerate(os.listdir(destination)):\n",
    "        if index < train:\n",
    "            path = os.path.join(target_dir,target_seperation[0])\n",
    "            create_dir(path,data)\n",
    "            print(index, data, 'valid')\n",
    "        elif  train <= index < train+val:\n",
    "            path = os.path.join(target_dir,target_seperation[1])\n",
    "            create_dir(path,data)\n",
    "            print(index,data, 'val')\n",
    "        elif train+val <= index < train + val + test:\n",
    "            path = os.path.join(target_dir,target_seperation[2])\n",
    "            create_dir(path,data)\n",
    "            print(index,data, 'test')"
   ]
  }
 ],
 "metadata": {
  "kernelspec": {
   "display_name": "Python 3 (ipykernel)",
   "language": "python",
   "name": "python3"
  },
  "language_info": {
   "codemirror_mode": {
    "name": "ipython",
    "version": 3
   },
   "file_extension": ".py",
   "mimetype": "text/x-python",
   "name": "python",
   "nbconvert_exporter": "python",
   "pygments_lexer": "ipython3",
   "version": "3.8.18"
  }
 },
 "nbformat": 4,
 "nbformat_minor": 5
}
